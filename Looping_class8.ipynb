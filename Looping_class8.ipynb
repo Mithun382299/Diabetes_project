{
  "nbformat": 4,
  "nbformat_minor": 0,
  "metadata": {
    "colab": {
      "name": "Looping_class8.ipynb",
      "provenance": [],
      "collapsed_sections": [],
      "include_colab_link": true
    },
    "kernelspec": {
      "name": "python3",
      "display_name": "Python 3"
    },
    "accelerator": "GPU"
  },
  "cells": [
    {
      "cell_type": "markdown",
      "metadata": {
        "id": "view-in-github",
        "colab_type": "text"
      },
      "source": [
        "<a href=\"https://colab.research.google.com/github/Mithun382299/Diabetes_project/blob/master/Looping_class8.ipynb\" target=\"_parent\"><img src=\"https://colab.research.google.com/assets/colab-badge.svg\" alt=\"Open In Colab\"/></a>"
      ]
    },
    {
      "cell_type": "markdown",
      "metadata": {
        "id": "K8EmXRyqkhZh",
        "colab_type": "text"
      },
      "source": [
        "# Looping In Python\n",
        "\n",
        "লুপ মানে ফাস।আর ফাস মানে ত আমরা সবাই জানি।তাই এটা নিয়ে রাজনীতি করার কোন দরকার নাই।\n",
        "\n",
        "প্রোগ্রামিং এ লুপ অন্য । আচ্চা আমরা যখন ১-১০ এর মধ্যে সংখ্যা গুল প্রিন্ট করব তখন কি করব?? বলল তো?\n",
        "\n",
        "একটা একটা করে না কি???\n",
        "\n",
        "print('1')\n",
        "\n",
        "print('2')\n",
        "\n",
        "print('3')\n",
        "\n",
        "print('4')\n",
        "\n",
        "...........\n",
        "\n",
        "print('10')\n",
        "ei vabe na ki?? dkho///\n"
      ]
    },
    {
      "cell_type": "code",
      "metadata": {
        "id": "KjrxMC02kNkB",
        "colab_type": "code",
        "colab": {
          "base_uri": "https://localhost:8080/",
          "height": 168
        },
        "outputId": "44b10baa-ae55-4303-e5b9-36a757cb1538"
      },
      "source": [
        "print('1')\n",
        "print('2')\n",
        "print('3')\n",
        "print('4')\n",
        "print('6')\n",
        "print('7')\n",
        "print('8')\n",
        "print('9')\n",
        "print('10')"
      ],
      "execution_count": 1,
      "outputs": [
        {
          "output_type": "stream",
          "text": [
            "1\n",
            "2\n",
            "3\n",
            "4\n",
            "6\n",
            "7\n",
            "8\n",
            "9\n",
            "10\n"
          ],
          "name": "stdout"
        }
      ]
    },
    {
      "cell_type": "markdown",
      "metadata": {
        "id": "kHx3bQk5m5we",
        "colab_type": "text"
      },
      "source": [
        "**আসলে কি এইভাবে করতে পারব?? ভগবান জানে...তাই না।**\n",
        "\n",
        "আসলে এইরকম কাজ গুল করার জন্য পাইথনে লুপ বলতে একটা কাজ আছে।।\n",
        "মানে একই কাজ কে একাধিক বার করার জন্য যে কাজ করি তাই লুপ।।\n",
        "\n",
        "উপরের যে গাধার মত খাটুনি খাটলাম সেটার জন্য লুপ আছে।\n",
        "\n",
        "পাইথনে লুপ আছে দুধরনের ।\n",
        "\n",
        "১। হোয়াইল লুপ(while loop)\n",
        "\n",
        "২ ফর লুপ (for loop)\n",
        "\n",
        "\n",
        "1. while loop :\n",
        "\n",
        "আগের কিছু চ্যাপ্টারে আমরা দেখেছি কিভাবে একটি if স্টেটমেন্টের কন্ডিশন সত্য হলে তার আওতাভুক্ত একটি কোড ব্লক রান করানো যায়। if এর ক্ষেত্রে কন্ডিশন সত্য হলে কোড ব্লকটি মাত্র একবার রান হয়। while লুপ মোটামুটি একইরকম ভাবে কাজ করে। যেমন - এরও একটি কন্ডিশন দরকার হয় এবং সেটি সত্য হলে, এর আওতাভুক্ত কোড রান করে। কিন্তু গুরুত্বপূর্ণ বিষয়টি হচ্ছে শুধু একবার না বরং অনেক বার রান করানো যায় (একে iteration বলে)।\n",
        "\n",
        "অর্থাৎ, যতক্ষণ সেই while লুপের কন্ডিশন সত্য থাকে ততক্ষণ পর্যন্ত এর আওতাভুক্ত কোড রান করতেই থাকে। আর যখন কন্ডিশনটি মিথ্যা হয়ে যায় তখন while লুপের বাইরে গিয়ে প্রোগ্রামের পরবর্তী স্টেটমেন্ট গুলো রান করা শুরু করে।\n",
        "\n",
        "Syntax:\n",
        "\n",
        "while (test_expression):\n",
        "\n",
        "    # Body of while\n",
        "    # statements.\n",
        "\n",
        "\n",
        "উদাহরণ\n"
      ]
    },
    {
      "cell_type": "code",
      "metadata": {
        "id": "NqGbC7cAnSzd",
        "colab_type": "code",
        "colab": {
          "base_uri": "https://localhost:8080/",
          "height": 185
        },
        "outputId": "cf05cc99-06d8-4377-e8ec-efd652463127"
      },
      "source": [
        "n = 1\n",
        "while(n<=10):\n",
        "  print(n)\n",
        "  n+=1"
      ],
      "execution_count": 1,
      "outputs": [
        {
          "output_type": "stream",
          "text": [
            "1\n",
            "2\n",
            "3\n",
            "4\n",
            "5\n",
            "6\n",
            "7\n",
            "8\n",
            "9\n",
            "10\n"
          ],
          "name": "stdout"
        }
      ]
    },
    {
      "cell_type": "markdown",
      "metadata": {
        "id": "JIJL4WaHpsH0",
        "colab_type": "text"
      },
      "source": [
        "**কি মজা তাই না?**\n",
        "\n",
        "যেখানে আমরা ১০ টা লাইন লিখছি সেখানে ৪ লাইনে সব শেষ। এটাই লুপিং।"
      ]
    },
    {
      "cell_type": "code",
      "metadata": {
        "id": "WC2Of5_RqE6e",
        "colab_type": "code",
        "colab": {
          "base_uri": "https://localhost:8080/",
          "height": 185
        },
        "outputId": "d4e7d598-dbf6-4896-fff1-b7d03bdaff3a"
      },
      "source": [
        "# এবার আমি ১ থেকে ১০ পর্যন্ত সংখ্যা গুলোর যোগফল বের করব। লুপের মাধ্যমে । রেডি তো আকাশ বাবু?\n",
        "i = 1\n",
        "sum = 0\n",
        "while(i <= 10):\n",
        "  sum += i\n",
        "  i += 1\n",
        "  print(\"The sumation is : \", sum)"
      ],
      "execution_count": 2,
      "outputs": [
        {
          "output_type": "stream",
          "text": [
            "The sumation is :  1\n",
            "The sumation is :  3\n",
            "The sumation is :  6\n",
            "The sumation is :  10\n",
            "The sumation is :  15\n",
            "The sumation is :  21\n",
            "The sumation is :  28\n",
            "The sumation is :  36\n",
            "The sumation is :  45\n",
            "The sumation is :  55\n"
          ],
          "name": "stdout"
        }
      ]
    },
    {
      "cell_type": "markdown",
      "metadata": {
        "id": "Yc5fi7s7q4Yp",
        "colab_type": "text"
      },
      "source": [
        "এখনে লক্ষ কর।আমি লুপের ভেতরে প্রিন্ট ফাংশন কে কল করেছি। তাই কিন্তু সব গুল স্টেট্মেন্ট প্রিন্ট করেছে। আমি চাই শুধু যোগফল যত হবে তত আসবে । দেন আমি যদি লুপের বাইরে প্রিন্ট ফাংশন কে কল করি তাহলেই হবে । "
      ]
    },
    {
      "cell_type": "code",
      "metadata": {
        "id": "5hT_CfBoq2Gf",
        "colab_type": "code",
        "colab": {
          "base_uri": "https://localhost:8080/",
          "height": 34
        },
        "outputId": "f5d5dd58-9ab0-41c2-fbde-acbb529545e7"
      },
      "source": [
        "i = 1\n",
        "sum = 0\n",
        "while(i <= 10):\n",
        "  sum += i\n",
        "  i += 1\n",
        "print(\"The sumation is : \", sum)"
      ],
      "execution_count": 4,
      "outputs": [
        {
          "output_type": "stream",
          "text": [
            "The sumation is :  55\n"
          ],
          "name": "stdout"
        }
      ]
    },
    {
      "cell_type": "markdown",
      "metadata": {
        "id": "lagAidYLvBjI",
        "colab_type": "text"
      },
      "source": [
        "#নিচের সমস্যা টা সমান্তর ধারা । \n",
        "\n",
        "প্রশ্ন ছিল ঃ\n",
        "\n",
        "1+2+3+4+5+6+7.......+n= n(n+1)\n",
        "\n",
        "এন তম ধারার যোগফল নির্নেয় । \n",
        "\n",
        "এখানে এন = ১০০ নেয়া হয়েছে ।\n",
        "\n",
        "দেখ............\n"
      ]
    },
    {
      "cell_type": "code",
      "metadata": {
        "id": "f2YmfVzRs2Ja",
        "colab_type": "code",
        "colab": {
          "base_uri": "https://localhost:8080/",
          "height": 34
        },
        "outputId": "db6ca120-df99-4e8d-a689-32e9c1e12835"
      },
      "source": [
        "n = 100\n",
        "i = 1\n",
        "while(i <= n):\n",
        "  temp = n*(n+1)\n",
        "  temp = temp/2\n",
        "  i += 1\n",
        "print(temp)"
      ],
      "execution_count": 7,
      "outputs": [
        {
          "output_type": "stream",
          "text": [
            "5050.0\n"
          ],
          "name": "stdout"
        }
      ]
    },
    {
      "cell_type": "markdown",
      "metadata": {
        "id": "1w5BhdDkulzP",
        "colab_type": "text"
      },
      "source": [
        "# Question : 1+3+5+7.......+97=?"
      ]
    }
  ]
}